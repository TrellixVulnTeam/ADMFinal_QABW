{
 "cells": [
  {
   "cell_type": "code",
   "execution_count": 11,
   "metadata": {},
   "outputs": [],
   "source": [
    "from faker import Faker\n",
    "import numpy as np\n",
    "import pandas as pd \n",
    "fake = Faker()"
   ]
  },
  {
   "cell_type": "code",
   "execution_count": 15,
   "metadata": {},
   "outputs": [],
   "source": [
    "Product = 20    \n",
    "User = 5000       "
   ]
  },
  {
   "cell_type": "code",
   "execution_count": 16,
   "metadata": {},
   "outputs": [],
   "source": [
    "def ProductId(userNo,productNo):\n",
    "    prodId = []\n",
    "    for i in range(userNo):\n",
    "        prod_Id = fake.pyint(min_value=1000, max_value=2000, step=1)\n",
    "        for j in range(productNo):\n",
    "                user.append(prod_Id)\n",
    "                \n",
    "    return user"
   ]
  },
  {
   "cell_type": "code",
   "execution_count": 17,
   "metadata": {},
   "outputs": [],
   "source": [
    "def ageCategory(userNo):\n",
    "    age = []\n",
    "    for i in range(userNo):\n",
    "        age.append(np.random.randint(10,80))\n",
    "    return age"
   ]
  },
  {
   "cell_type": "code",
   "execution_count": 18,
   "metadata": {},
   "outputs": [],
   "source": [
    "def userId(userNo,productNo):\n",
    "    user = []\n",
    "    for i in range(userNo):\n",
    "        user_Id = fake.pyint(min_value=100, max_value=1000, step=1)\n",
    "        for j in range(productNo):\n",
    "                user.append(user_Id)\n",
    "                \n",
    "    return user"
   ]
  },
  {
   "cell_type": "code",
   "execution_count": 20,
   "metadata": {},
   "outputs": [],
   "source": [
    "def rating(userNo,productNo):\n",
    "    rating = []\n",
    "    for i in range(userNo*productNo):\n",
    "        rating.append(np.random.randint(1,6))\n",
    "    return rating"
   ]
  },
  {
   "cell_type": "code",
   "execution_count": 34,
   "metadata": {},
   "outputs": [],
   "source": [
    "def SnackName(productNo,userNo):\n",
    "    snack_name = [\"Bitterballen\",\"Bonda\", \"Cokodok\", \"Cracker nuts\", \"Doughnut\", \"Gulha\", \"Pancakes\", \"Poffertjes\", \"Waffle\", \"Candy\", \"Fudge\", \"Grass jelly\", \"Panforte\", \"Cookie\"]\n",
    "    snack = []\n",
    "    for i in range(productNo*userNo):\n",
    "        snack.append(fake.words(nb=1, ext_word_list=snack_name, unique=False))\n",
    "    return snack"
   ]
  },
  {
   "cell_type": "code",
   "execution_count": 21,
   "metadata": {},
   "outputs": [],
   "source": [
    "def SnackName(productNo,userNo):\n",
    "    snack_name = [\"Pringles\", \"Cookies\", \"Waffles\", \"Wraps\", \"Sandwiches\", \"Pretzels\", \"Burgers\", \"Cheerios\"]\n",
    "    snack = []\n",
    "    for i in range(productNo*userNo):\n",
    "        snack.append(fake.words(nb=1, ext_word_list=snack_name, unique=False))\n",
    "    return snack"
   ]
  },
  {
   "cell_type": "code",
   "execution_count": 35,
   "metadata": {
    "scrolled": true
   },
   "outputs": [],
   "source": [
    "def SnackType(productNo):\n",
    "    type_snack = [\"healthy\",\"unhealthy\",\"evening\",\"morning\",\"high protein\",\"low fats\",\"low sugar\",\"fruits\"]\n",
    "    snack_type=[]\n",
    "    for i in range(productNo):\n",
    "        snack_type.append(fake.words(nb=1, ext_word_list=type_snack, unique=False))\n",
    "    return snack_type"
   ]
  },
  {
   "cell_type": "code",
   "execution_count": 22,
   "metadata": {},
   "outputs": [],
   "source": [
    "def SnackType(productNo):\n",
    "    type_snack =  [\"breakfast\",\"lunch\",\"brunch\",\"dinner\",\"evening munching\"]\n",
    "    snack_type=[]\n",
    "    for i in range(productNo):\n",
    "        snack_type.append(fake.words(nb=1, ext_word_list=type_snack, unique=False))\n",
    "    return snack_type"
   ]
  },
  {
   "cell_type": "code",
   "execution_count": 23,
   "metadata": {},
   "outputs": [],
   "source": [
    "def price(productNo):\n",
    "    price = []\n",
    "    for i in range(productNo):\n",
    "        price.append((np.random.randint(5,16)))\n",
    "    return price\n"
   ]
  },
  {
   "cell_type": "code",
   "execution_count": 24,
   "metadata": {},
   "outputs": [],
   "source": [
    "user= userId(User,Product)\n",
    "product = ProductId(User,Product)\n",
    "rating = rating(User,Product)\n",
    "snackName = SnackName(User,Product)\n",
    "##age = ageCategory(User)\n",
    "##Price = price(Product)\n",
    "SnackType=SnackType(Product)\n"
   ]
  },
  {
   "cell_type": "code",
   "execution_count": 51,
   "metadata": {},
   "outputs": [],
   "source": [
    "user_data = pd.DataFrame(list(zip(user, product, rating, snackName, SnackType)),\n",
    "                   columns = ['userId', 'Product_Id', 'Ratings', 'Snack Name', 'SnackType'])"
   ]
  },
  {
   "cell_type": "code",
   "execution_count": 25,
   "metadata": {},
   "outputs": [
    {
     "ename": "NameError",
     "evalue": "name 'age' is not defined",
     "output_type": "error",
     "traceback": [
      "\u001b[1;31m---------------------------------------------------------------------------\u001b[0m",
      "\u001b[1;31mNameError\u001b[0m                                 Traceback (most recent call last)",
      "\u001b[1;32m<ipython-input-25-ff90090385d7>\u001b[0m in \u001b[0;36m<module>\u001b[1;34m\u001b[0m\n\u001b[1;32m----> 1\u001b[1;33m user_data = pd.DataFrame(list(zip(user, product, rating, age, snackName, SnackType)),\n\u001b[0m\u001b[0;32m      2\u001b[0m                    columns = ['userId', 'Product_Id', 'Ratings', 'age', 'Snack Name', 'SnackType'])\n",
      "\u001b[1;31mNameError\u001b[0m: name 'age' is not defined"
     ]
    }
   ],
   "source": [
    "user_data = pd.DataFrame(list(zip(user, product, rating, age, snackName)),\n",
    "                   columns = ['userId', 'Product_Id', 'Ratings', 'age', 'Snack Name', 'SnackType'])"
   ]
  },
  {
   "cell_type": "code",
   "execution_count": 39,
   "metadata": {},
   "outputs": [],
   "source": [
    "product_data = pd.DataFrame(list(zip(snackName, product,  rating, Price, SnackType)),\n",
    "                   columns = ['Snack Name', 'Product_Id','Ratings','Price','SnackType'])\n"
   ]
  },
  {
   "cell_type": "code",
   "execution_count": 52,
   "metadata": {},
   "outputs": [],
   "source": [
    "product_data = pd.DataFrame(list(zip(snackName, product,  rating, SnackType)),\n",
    "                   columns = ['Snack Name', 'Product_Id','Ratings','SnackType'])"
   ]
  },
  {
   "cell_type": "code",
   "execution_count": 53,
   "metadata": {},
   "outputs": [
    {
     "name": "stdout",
     "output_type": "stream",
     "text": [
      "C:\\Users\\verle\n"
     ]
    }
   ],
   "source": [
    "cd C:\\Users\\verle"
   ]
  },
  {
   "cell_type": "code",
   "execution_count": 54,
   "metadata": {},
   "outputs": [],
   "source": [
    "user_data.to_csv('satra_user.csv')"
   ]
  },
  {
   "cell_type": "code",
   "execution_count": 55,
   "metadata": {},
   "outputs": [],
   "source": [
    "product_data.to_csv(\"satra_product.csv\")"
   ]
  }
 ],
 "metadata": {
  "kernelspec": {
   "display_name": "Python 3",
   "language": "python",
   "name": "python3"
  },
  "language_info": {
   "codemirror_mode": {
    "name": "ipython",
    "version": 3
   },
   "file_extension": ".py",
   "mimetype": "text/x-python",
   "name": "python",
   "nbconvert_exporter": "python",
   "pygments_lexer": "ipython3",
   "version": "3.7.4"
  }
 },
 "nbformat": 4,
 "nbformat_minor": 2
}
