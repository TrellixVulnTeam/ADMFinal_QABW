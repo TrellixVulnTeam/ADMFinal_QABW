{
 "cells": [
  {
   "cell_type": "code",
   "execution_count": null,
   "metadata": {},
   "outputs": [],
   "source": [
    "import numpy as np\n",
    "import sys\n",
    "import time\n",
    "import pandas as pd\n",
    "sys.path.append(\"../../\")\n",
    "sys.path.append(\"../../reco_utils/recommender/rlrmc/\")\n",
    "\n",
    "from reco_utils.dataset.python_splitters import python_random_split\n",
    "from reco_utils.dataset.python_splitters import python_stratified_split\n",
    "from reco_utils.dataset import movielens\n",
    "from reco_utils.recommender.rlrmc.RLRMCdataset import RLRMCdataset \n",
    "from reco_utils.recommender.rlrmc.RLRMCalgorithm import RLRMCalgorithm \n",
    "# Pymanopt installation is required via\n",
    "# pip install pymanopt \n",
    "from reco_utils.evaluation.python_evaluation import (\n",
    "    rmse, mae\n",
    ")\n",
    "\n",
    "# import logging\n",
    "\n",
    "# %load_ext autoreload\n",
    "# %autoreload 2"
   ]
  },
  {
   "cell_type": "code",
   "execution_count": null,
   "metadata": {},
   "outputs": [
    {
     "name": "stdout",
     "output_type": "stream",
     "text": [
      "Pandas version: 0.25.3\n"
     ]
    }
   ],
   "source": [
    "print(\"Pandas version: {}\".format(pd.__version__))\n",
    "print(\"Pandas version: {}\".format(tf.__version__))\n",
    "print(\"System version: {}\".format(sys.version))"
   ]
  },
  {
   "cell_type": "code",
   "execution_count": 4,
   "metadata": {},
   "outputs": [],
   "source": [
    "# Select Movielens data size: 100k, 1m, 10m, or 20m\n",
    "MOVIELENS_DATA_SIZE = '10m'\n",
    "\n",
    "# Model parameters\n",
    "\n",
    "# rank of the model, a positive integer (usually small), required parameter\n",
    "rank_parameter = 10\n",
    "# regularization parameter multiplied to loss function, a positive number (usually small), required parameter\n",
    "regularization_parameter = 0.001\n",
    "# initialization option for the model, 'svd' employs singular value decomposition, optional parameter\n",
    "initialization_flag = 'svd' #default is 'random'\n",
    "# maximum number of iterations for the solver, a positive integer, optional parameter\n",
    "maximum_iteration = 100 #optional, default is 100\n",
    "# maximum time in seconds for the solver, a positive integer, optional parameter\n",
    "maximum_time = 300#optional, default is 1000\n",
    "\n",
    "# Verbosity of the intermediate results\n",
    "verbosity=0 #optional parameter, valid values are 0,1,2, default is 0\n",
    "# Whether to compute per iteration train RMSE (and test RMSE, if test data is given)\n",
    "compute_iter_rmse=True #optional parameter, boolean value, default is False"
   ]
  },
  {
   "cell_type": "code",
   "execution_count": 5,
   "metadata": {},
   "outputs": [],
   "source": [
    "## Logging utilities. Please import 'logging' in order to use the following command. \n",
    "# logging.basicConfig(level=logging.INFO)"
   ]
  },
  {
   "cell_type": "code",
   "execution_count": 6,
   "metadata": {},
   "outputs": [
    {
     "name": "stderr",
     "output_type": "stream",
     "text": [
      "100%|████████████████████████████████████████████████████████████████████████████| 64.0k/64.0k [00:02<00:00, 26.6kKB/s]\n"
     ]
    }
   ],
   "source": [
    "df = movielens.load_pandas_df(\n",
    "    size=MOVIELENS_DATA_SIZE,\n",
    "    header=[\"userID\", \"itemID\", \"rating\", \"timestamp\"]\n",
    ")"
   ]
  },
  {
   "cell_type": "code",
   "execution_count": 7,
   "metadata": {},
   "outputs": [],
   "source": [
    "## If both validation and test sets are required\n",
    "# train, validation, test = python_random_split(df,[0.6, 0.2, 0.2])\n",
    "\n",
    "## If validation set is not required\n",
    "train, test = python_random_split(df,[0.8, 0.2])\n",
    "\n",
    "## If test set is not required\n",
    "# train, validation = python_random_split(df,[0.8, 0.2])\n",
    "\n",
    "## If both validation and test sets are not required (i.e., the complete dataset is for training the model)\n",
    "# train = df"
   ]
  },
  {
   "cell_type": "code",
   "execution_count": 8,
   "metadata": {},
   "outputs": [],
   "source": [
    "\n",
    "# data = RLRMCdataset(train=train, validation=validation, test=test)\n",
    "data = RLRMCdataset(train=train, test=test) # No validation set\n",
    "# data = RLRMCdataset(train=train, validation=validation) # No test set\n",
    "# data = RLRMCdataset(train=train) # No validation or test set"
   ]
  },
  {
   "cell_type": "code",
   "execution_count": 9,
   "metadata": {},
   "outputs": [],
   "source": [
    "model = RLRMCalgorithm(rank = rank_parameter,\n",
    "                       C = regularization_parameter,\n",
    "                       model_param = data.model_param,\n",
    "                       initialize_flag = initialization_flag,\n",
    "                       maxiter=maximum_iteration,\n",
    "                       max_time=maximum_time)"
   ]
  },
  {
   "cell_type": "code",
   "execution_count": 10,
   "metadata": {},
   "outputs": [
    {
     "name": "stdout",
     "output_type": "stream",
     "text": [
      "WARNING:tensorflow:From C:\\Users\\prath\\AppData\\Local\\Continuum\\anaconda3\\lib\\site-packages\\pymanopt\\tools\\autodiff\\_tensorflow.py:20: The name tf.Session is deprecated. Please use tf.compat.v1.Session instead.\n",
      "\n",
      "Took 109.52011704444885 seconds for training.\n"
     ]
    }
   ],
   "source": [
    "start_time = time.time()\n",
    "\n",
    "model.fit(data,verbosity=verbosity)\n",
    "\n",
    "# fit_and_evaluate will compute RMSE on the validation set (if given) at every iteration\n",
    "# model.fit_and_evaluate(data,verbosity=verbosity)\n",
    "\n",
    "train_time = time.time() - start_time # train_time includes both model initialization and model training time. \n",
    "\n",
    "print(\"Took {} seconds for training.\".format(train_time))"
   ]
  },
  {
   "cell_type": "code",
   "execution_count": 11,
   "metadata": {},
   "outputs": [],
   "source": [
    "## Obtain predictions on (userID,itemID) pairs (60586,54775) and (52681,36519) in Movielens 10m dataset\n",
    "# output = model.predict([60586,52681],[54775,36519]) # Movielens 10m dataset\n",
    "\n",
    "# Obtain prediction on the full test set\n",
    "predictions_ndarr = model.predict(test['userID'].values,test['itemID'].values)"
   ]
  },
  {
   "cell_type": "code",
   "execution_count": 12,
   "metadata": {},
   "outputs": [
    {
     "data": {
      "text/plain": [
       "array([4.13158196, 4.40601492, 3.38833921, ..., 3.5908665 , 4.77179672,\n",
       "       2.52084739])"
      ]
     },
     "execution_count": 12,
     "metadata": {},
     "output_type": "execute_result"
    }
   ],
   "source": [
    "predictions_ndarr"
   ]
  },
  {
   "cell_type": "code",
   "execution_count": 13,
   "metadata": {},
   "outputs": [
    {
     "name": "stdout",
     "output_type": "stream",
     "text": [
      "RMSE:\t0.812263\n",
      "MAE:\t0.623889\n"
     ]
    }
   ],
   "source": [
    "predictions_df = pd.DataFrame(data={\"userID\": test['userID'].values, \"itemID\":test['itemID'].values, \"prediction\":predictions_ndarr})\n",
    "\n",
    "## Compute test RMSE \n",
    "eval_rmse = rmse(test, predictions_df)\n",
    "## Compute test MAE \n",
    "eval_mae = mae(test, predictions_df)\n",
    "\n",
    "print(\"RMSE:\\t%f\" % eval_rmse,\n",
    "      \"MAE:\\t%f\" % eval_mae, sep='\\n')"
   ]
  },
  {
   "cell_type": "code",
   "execution_count": 15,
   "metadata": {},
   "outputs": [
    {
     "data": {
      "text/plain": [
       "['RLRMC.sav']"
      ]
     },
     "execution_count": 15,
     "metadata": {},
     "output_type": "execute_result"
    }
   ],
   "source": [
    "# save the model to disk\n",
    "filename = 'RLRMC.sav'\n",
    "joblib.dump(model, filename)"
   ]
  },
  {
   "cell_type": "code",
   "execution_count": null,
   "metadata": {},
   "outputs": [],
   "source": []
  },
  {
   "cell_type": "code",
   "execution_count": 17,
   "metadata": {},
   "outputs": [],
   "source": []
  },
  {
   "cell_type": "code",
   "execution_count": 18,
   "metadata": {},
   "outputs": [],
   "source": []
  },
  {
   "cell_type": "code",
   "execution_count": null,
   "metadata": {},
   "outputs": [],
   "source": []
  }
 ],
 "metadata": {
  "kernelspec": {
   "display_name": "Python (reco)",
   "language": "python",
   "name": "reco_base"
  },
  "language_info": {
   "codemirror_mode": {
    "name": "ipython",
    "version": 3
   },
   "file_extension": ".py",
   "mimetype": "text/x-python",
   "name": "python",
   "nbconvert_exporter": "python",
   "pygments_lexer": "ipython3",
   "version": "3.7.4"
  }
 },
 "nbformat": 4,
 "nbformat_minor": 2
}
