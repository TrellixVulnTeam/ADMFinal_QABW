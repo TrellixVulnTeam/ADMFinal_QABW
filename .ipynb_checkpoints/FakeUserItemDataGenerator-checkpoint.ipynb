{
 "cells": [
  {
   "cell_type": "code",
   "execution_count": 54,
   "metadata": {},
   "outputs": [],
   "source": [
    "from faker import Faker\n",
    "import numpy as np\n",
    "import pandas as pd \n",
    "fake = Faker()"
   ]
  },
  {
   "cell_type": "code",
   "execution_count": 55,
   "metadata": {},
   "outputs": [],
   "source": [
    "Product = 40    \n",
    "User = 5000       "
   ]
  },
  {
   "cell_type": "code",
   "execution_count": 56,
   "metadata": {},
   "outputs": [],
   "source": [
    "def ProductId(userNo,productNo):\n",
    "    prodId = []\n",
    "    fprodId = []\n",
    "    for i in range(productNo):\n",
    "        prodId.append(fake.upc_a(upc_ae_mode=False, base=1, number_system_digit=4))   \n",
    "    for i in range(userNo):\n",
    "        fprodId =  prodId + fprodId\n",
    "    return fprodId"
   ]
  },
  {
   "cell_type": "code",
   "execution_count": 57,
   "metadata": {},
   "outputs": [],
   "source": [
    "def userId(userNo,productNo):\n",
    "    user = []\n",
    "    for i in range(userNo):\n",
    "        user_Id = fake.pyint(min_value=100, max_value=10000, step=1)\n",
    "        for j in range(productNo):\n",
    "                user.append(user_Id)\n",
    "                \n",
    "    return user"
   ]
  },
  {
   "cell_type": "code",
   "execution_count": 58,
   "metadata": {},
   "outputs": [],
   "source": [
    "def rating(userNo,productNo):\n",
    "    rating = []\n",
    "    for i in range(userNo*productNo):\n",
    "        rating.append(np.random.randint(1,6))\n",
    "    return rating"
   ]
  },
  {
   "cell_type": "code",
   "execution_count": 59,
   "metadata": {},
   "outputs": [],
   "source": [
    "def SnackName(productNo,userNo):\n",
    "    snack_name = [\"Pringles\", \"Cookies\", \"Waffles\", \"Wraps\", \"Sandwiches\", \"Pretzels\", \"Burgers\", \"Cheerios\"]\n",
    "    snack = []\n",
    "    for i in range(productNo*userNo):\n",
    "        snack.append(fake.words(nb=1, ext_word_list=snack_name, unique=False))\n",
    "    return snack"
   ]
  },
  {
   "cell_type": "code",
   "execution_count": 60,
   "metadata": {
    "scrolled": true
   },
   "outputs": [],
   "source": [
    "def SnackType(productNo):\n",
    "    type_snack = [\"breakfast\",\"lunch\",\"brunch\",\"dinner\",\"evening munching\"]\n",
    "    snack_type=[]\n",
    "    for i in range(productNo):\n",
    "        snack_type.append(fake.words(nb=1, ext_word_list=type_snack, unique=False))\n",
    "    return snack_type"
   ]
  },
  {
   "cell_type": "code",
   "execution_count": 61,
   "metadata": {},
   "outputs": [],
   "source": [
    "user= userId(User,Product)\n",
    "product = ProductId(User,Product)\n",
    "rating = rating(User,Product)\n",
    "snackName = SnackName(User,Product)\n",
    "SnackType=SnackType(Product)\n"
   ]
  },
  {
   "cell_type": "code",
   "execution_count": 62,
   "metadata": {},
   "outputs": [],
   "source": [
    "\n",
    "snacks_data = pd.DataFrame(list(zip(user, product, rating, snackName, SnackType)),\n",
    "                   columns = ['userID', 'itemID', 'rating', 'Snack Name', 'Snack Type'])\n"
   ]
  },
  {
   "cell_type": "code",
   "execution_count": 63,
   "metadata": {},
   "outputs": [],
   "source": [
    "snacks_data.to_csv('snacks_final.csv')"
   ]
  },
  {
   "cell_type": "code",
   "execution_count": null,
   "metadata": {},
   "outputs": [],
   "source": []
  }
 ],
 "metadata": {
  "kernelspec": {
   "display_name": "Python 3",
   "language": "python",
   "name": "python3"
  },
  "language_info": {
   "codemirror_mode": {
    "name": "ipython",
    "version": 3
   },
   "file_extension": ".py",
   "mimetype": "text/x-python",
   "name": "python",
   "nbconvert_exporter": "python",
   "pygments_lexer": "ipython3",
   "version": "3.7.4"
  }
 },
 "nbformat": 4,
 "nbformat_minor": 2
}
